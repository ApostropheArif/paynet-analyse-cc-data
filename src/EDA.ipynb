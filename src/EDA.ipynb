{
 "cells": [
  {
   "cell_type": "markdown",
   "metadata": {},
   "source": [
    "# 1.0 Get and view data"
   ]
  },
  {
   "cell_type": "code",
   "execution_count": 2,
   "metadata": {},
   "outputs": [],
   "source": [
    "import os\n",
    "\n",
    "import pandas as pd\n",
    "from pyspark.sql import SparkSession\n",
    "from pyspark.sql.functions import col, sum, when\n",
    "from pyspark.sql.types import StringType\n",
    "from uszipcode import SearchEngine"
   ]
  },
  {
   "cell_type": "code",
   "execution_count": 3,
   "metadata": {},
   "outputs": [
    {
     "name": "stdout",
     "output_type": "stream",
     "text": [
      "+----------+------+-------------+-----------+----------------+--------+----------------+----------------------+------------------+-----------+-------------+--------------------+--------------------+---------------------+--------------------+\n",
      "|Unnamed: 0|   amt|     category|     cc_bic|          cc_num|is_fraud|  merch_eff_time|merch_last_update_time|         merch_lat| merch_long|merch_zipcode|            merchant|     personal_detail|trans_date_trans_time|           trans_num|\n",
      "+----------+------+-------------+-----------+----------------+--------+----------------+----------------------+------------------+-----------+-------------+--------------------+--------------------+---------------------+--------------------+\n",
      "|         0|  4.97|     misc_net|CITIUS33CHI|2703186189652095|       0|1325376018798532|         1325376018666|         36.011293| -82.048315|        28705|fraud_Rippin, Kub...|{\"person_name\":\"J...|  2019-01-01 00:00:18|0b242abb623afc578...|\n",
      "|         1|107.23|  grocery_pos|   ADMDUS41|    630423337322|       0|1325376044867960|          132537604479|49.159046999999994|-118.186462|         NULL|fraud_Heller, Gut...|{\"person_name\":\"S...|  2019-01-01 00:00:44|1f76529f857473494...|\n",
      "|         2|220.11|entertainment|       Null|  38859492057661|       0|1325376051506840|         1325376051286|         43.150704|-112.154481|        83236|fraud_Lind-Buckridge|{\"person_name\":\"E...|  2019-01-01 00:00:51|a1a22d70485983eac...|\n",
      "|         3|  45.0|gas_transport|DEUTUS33TRF|3534093764340240|       0|1325376076794698|         1325376076365|         47.034331|-112.561071|         NULL|fraud_Kutch, Herm...|{\"person_name\":\"J...|  2019-01-01 00:01:16|6b849c168bdad6f86...|\n",
      "|         4| 41.96|     misc_pos|   APBCUS61| 375534208663984|       0|1325376186746376|          132537618681|         38.674999| -78.632459|        22844| fraud_Keeling-Crist|{\"person_name\":\"T...|  2019-01-01 00:03:06|a41d7549acf907893...|\n",
      "+----------+------+-------------+-----------+----------------+--------+----------------+----------------------+------------------+-----------+-------------+--------------------+--------------------+---------------------+--------------------+\n",
      "\n"
     ]
    }
   ],
   "source": [
    "data_path = os.path.join('..', 'data', 'cc_sample_transaction.json')\n",
    "spark = SparkSession.builder.appName('CC Data Analysis').getOrCreate()\n",
    "cc_data = spark.read.json(data_path)\n",
    "cc_data.limit(5).show()  # Looking at the first 5 rows"
   ]
  },
  {
   "cell_type": "markdown",
   "metadata": {},
   "source": [
    "## 1.1 Summary of data"
   ]
  },
  {
   "cell_type": "code",
   "execution_count": 4,
   "metadata": {},
   "outputs": [
    {
     "name": "stdout",
     "output_type": "stream",
     "text": [
      "root\n",
      " |-- Unnamed: 0: string (nullable = true)\n",
      " |-- amt: string (nullable = true)\n",
      " |-- category: string (nullable = true)\n",
      " |-- cc_bic: string (nullable = true)\n",
      " |-- cc_num: string (nullable = true)\n",
      " |-- is_fraud: string (nullable = true)\n",
      " |-- merch_eff_time: string (nullable = true)\n",
      " |-- merch_last_update_time: string (nullable = true)\n",
      " |-- merch_lat: string (nullable = true)\n",
      " |-- merch_long: string (nullable = true)\n",
      " |-- merch_zipcode: string (nullable = true)\n",
      " |-- merchant: string (nullable = true)\n",
      " |-- personal_detail: string (nullable = true)\n",
      " |-- trans_date_trans_time: string (nullable = true)\n",
      " |-- trans_num: string (nullable = true)\n",
      "\n"
     ]
    }
   ],
   "source": [
    "cc_data.printSchema()"
   ]
  },
  {
   "cell_type": "code",
   "execution_count": 5,
   "metadata": {},
   "outputs": [
    {
     "name": "stdout",
     "output_type": "stream",
     "text": [
      "+-------+-----------------+-----------------+-------------+-------+--------------------+--------------------+--------------------+----------------------+-----------------+------------------+------------------+-------------------+--------------------+---------------------+--------------------+\n",
      "|summary|       Unnamed: 0|              amt|     category| cc_bic|              cc_num|            is_fraud|      merch_eff_time|merch_last_update_time|        merch_lat|        merch_long|     merch_zipcode|           merchant|     personal_detail|trans_date_trans_time|           trans_num|\n",
      "+-------+-----------------+-----------------+-------------+-------+--------------------+--------------------+--------------------+----------------------+-----------------+------------------+------------------+-------------------+--------------------+---------------------+--------------------+\n",
      "|  count|          1296675|          1296675|      1296675|1296675|             1296675|             1296675|             1296675|               1296675|          1296675|           1296675|           1100702|            1296675|             1296675|              1296675|             1296675|\n",
      "|   mean|         648337.0|70.35103545607011|         NULL|   NULL| 4.17192042079685E17|0.005788651743883394|1.226971654789972...|  1.226790968939939...|38.53733804469938|-90.22646479897207| 46825.75415053302|               NULL|                NULL|                 NULL|            Infinity|\n",
      "| stddev|374317.9744882685|160.3160385715278|         NULL|   NULL|1.308806447000239...| 0.07586268973125196|3.678596149934444E14|   3.68057477577883E11| 5.10978836967917| 13.77109056479241|25834.001159599888|               NULL|                NULL|                 NULL|                 NaN|\n",
      "|    min|                0|              1.0|entertainment|       |     180011453250192|                   0|    1325376018798532|         1325376018666|        19.027785|       -100.000064|             01001|fraud_Abbott-Rogahn|{\"person_name\":\"A...|  2019-01-01 00:00:18|00000ecad06b03d3a...|\n",
      "|    max|           999999|          9999.39|       travel|   Null|        676372984911|                   1|    1371816817420462|         1371816817611|        67.510267|        -99.999914|             99403|   fraud_Zulauf LLC|{\"person_name\":\"Z...|  2020-06-21 12:13:37|ffffef9d89e7d02d8...|\n",
      "+-------+-----------------+-----------------+-------------+-------+--------------------+--------------------+--------------------+----------------------+-----------------+------------------+------------------+-------------------+--------------------+---------------------+--------------------+\n",
      "\n"
     ]
    }
   ],
   "source": [
    "cc_data.describe().show()"
   ]
  },
  {
   "cell_type": "markdown",
   "metadata": {},
   "source": [
    "1. Initially, all columns are strings.\n",
    "2. There are 1,296,675 transactions.\n",
    "3. Data spans January 1, 2019 to June 21, 2020.\n",
    "4. The data contains null values.\n",
    "5. Most transactions relate to travel, least transactions relate to entertainment.\n",
    "6. There are also fraud cases in the data."
   ]
  },
  {
   "cell_type": "markdown",
   "metadata": {},
   "source": [
    "# 2.0 Data cleaning"
   ]
  },
  {
   "cell_type": "markdown",
   "metadata": {},
   "source": [
    "## 2.1 Casting columns to the proper type"
   ]
  },
  {
   "cell_type": "code",
   "execution_count": 6,
   "metadata": {},
   "outputs": [
    {
     "name": "stdout",
     "output_type": "stream",
     "text": [
      "root\n",
      " |-- index: integer (nullable = true)\n",
      " |-- amt: float (nullable = true)\n",
      " |-- category: string (nullable = true)\n",
      " |-- cc_bic: string (nullable = true)\n",
      " |-- cc_num: string (nullable = true)\n",
      " |-- is_fraud: string (nullable = true)\n",
      " |-- merch_eff_time: long (nullable = true)\n",
      " |-- merch_last_update_time: long (nullable = true)\n",
      " |-- merch_lat: float (nullable = true)\n",
      " |-- merch_long: float (nullable = true)\n",
      " |-- merch_zipcode: string (nullable = true)\n",
      " |-- merchant: string (nullable = true)\n",
      " |-- personal_detail: string (nullable = true)\n",
      " |-- trans_date_trans_time: timestamp (nullable = true)\n",
      " |-- trans_num: string (nullable = true)\n",
      "\n"
     ]
    }
   ],
   "source": [
    "cc_data = cc_data.withColumnRenamed('Unnamed: 0', 'index')\n",
    "col_dtypes = {\n",
    "    'index': 'integer',\n",
    "    'amt': 'float',\n",
    "    'merch_eff_time': 'long',\n",
    "    'merch_last_update_time': 'long',\n",
    "    'merch_lat': 'float',\n",
    "    'merch_long': 'float',\n",
    "    'trans_date_trans_time': 'timestamp'\n",
    "}\n",
    "\n",
    "# Change multiple column types\n",
    "for column in col_dtypes.keys():\n",
    "    cc_data = cc_data.withColumn(column, col(column).cast(col_dtypes[column]))\n",
    "\n",
    "cc_data.printSchema()"
   ]
  },
  {
   "cell_type": "code",
   "execution_count": 7,
   "metadata": {},
   "outputs": [
    {
     "name": "stdout",
     "output_type": "stream",
     "text": [
      "+-------+-----------------+------------------+-------------+-------+--------------------+--------------------+--------------------+----------------------+-----------------+------------------+------------------+-------------------+--------------------+--------------------+\n",
      "|summary|            index|               amt|     category| cc_bic|              cc_num|            is_fraud|      merch_eff_time|merch_last_update_time|        merch_lat|        merch_long|     merch_zipcode|           merchant|     personal_detail|           trans_num|\n",
      "+-------+-----------------+------------------+-------------+-------+--------------------+--------------------+--------------------+----------------------+-----------------+------------------+------------------+-------------------+--------------------+--------------------+\n",
      "|  count|          1296675|           1296675|      1296675|1296675|             1296675|             1296675|             1296675|               1296675|          1296675|           1296675|           1100702|            1296675|             1296675|             1296675|\n",
      "|   mean|         648337.0| 70.35103545681683|         NULL|   NULL| 4.17192042079685E17|0.005788651743883394|1.226971654789972...|  1.226790968939939...|38.53733804607184|-90.22646480028038| 46825.75415053302|               NULL|                NULL|            Infinity|\n",
      "| stddev|374317.9744882685|160.31603832678465|         NULL|   NULL|1.308806447000239...| 0.07586268973125196|3.678596149934444E14|   3.68057477577883E11|5.109788370278081|13.771090564481247|25834.001159599888|               NULL|                NULL|                 NaN|\n",
      "|    min|                0|               1.0|entertainment|       |     180011453250192|                   0|         13289089638|           13253844562|        19.027784|        -166.67125|             01001|fraud_Abbott-Rogahn|{\"person_name\":\"A...|00000ecad06b03d3a...|\n",
      "|    max|          1296674|           28948.9|       travel|   Null|        676372984911|                   1|    1371816817420462|         1371816817611|         67.51027|        -66.950905|             99403|   fraud_Zulauf LLC|{\"person_name\":\"Z...|ffffef9d89e7d02d8...|\n",
      "+-------+-----------------+------------------+-------------+-------+--------------------+--------------------+--------------------+----------------------+-----------------+------------------+------------------+-------------------+--------------------+--------------------+\n",
      "\n"
     ]
    }
   ],
   "source": [
    "cc_data.describe().show()"
   ]
  },
  {
   "cell_type": "markdown",
   "metadata": {},
   "source": [
    "`merch_eff_time` column contains 11 to 16 digit values.\n",
    "\n",
    "`merch_last_udpate_time` column contains 11 to 13 digit values."
   ]
  },
  {
   "cell_type": "markdown",
   "metadata": {},
   "source": [
    "## 2.2 Addressing missing values"
   ]
  },
  {
   "cell_type": "code",
   "execution_count": 8,
   "metadata": {},
   "outputs": [
    {
     "name": "stdout",
     "output_type": "stream",
     "text": [
      "+-----+----+--------+------+------+--------+--------------+----------------------+---------+----------+-------------+--------+---------------+---------------------+---------+\n",
      "|index| amt|category|cc_bic|cc_num|is_fraud|merch_eff_time|merch_last_update_time|merch_lat|merch_long|merch_zipcode|merchant|personal_detail|trans_date_trans_time|trans_num|\n",
      "+-----+----+--------+------+------+--------+--------------+----------------------+---------+----------+-------------+--------+---------------+---------------------+---------+\n",
      "| NULL|NULL|       0|432980|     0|       0|          NULL|                  NULL|     NULL|      NULL|       195973|       0|              0|                 NULL|        0|\n",
      "+-----+----+--------+------+------+--------+--------------+----------------------+---------+----------+-------------+--------+---------------+---------------------+---------+\n",
      "\n"
     ]
    }
   ],
   "source": [
    "null_counts = cc_data.select([\n",
    "    sum(\n",
    "        (col(column).isNull() |  # For non-string columns\n",
    "         (col(column) == 'Null') |\n",
    "         (col(column) == 'NA') |\n",
    "         (col(column) == '')).cast('int')\n",
    "        ).alias(column) for column in cc_data.columns\n",
    "])\n",
    "null_counts.show()"
   ]
  },
  {
   "cell_type": "markdown",
   "metadata": {},
   "source": [
    "The `cc_bic` column contains null values. However, I do not believe there is a way to find this information from the data.\n",
    "\n",
    "The `merch_zipcode` column also contains null values and they can be filled in using the `merch_lat` and `merch_long` columns."
   ]
  },
  {
   "cell_type": "markdown",
   "metadata": {},
   "source": [
    "### 2.2.1 `cc_bic` column"
   ]
  },
  {
   "cell_type": "code",
   "execution_count": 9,
   "metadata": {},
   "outputs": [],
   "source": [
    "# Replace 'null' values in cc_bic with None\n",
    "cc_data_processed = cc_data.withColumn(\n",
    "    'cc_bic',\n",
    "    when((col('cc_bic') == 'Null') |\n",
    "         ((col('cc_bic') == 'NA')) |\n",
    "         ((col('cc_bic') == '')), None).otherwise(col('cc_bic'))\n",
    ")"
   ]
  },
  {
   "cell_type": "markdown",
   "metadata": {},
   "source": [
    "### 2.2.2 `merch_zipcode` column"
   ]
  },
  {
   "cell_type": "code",
   "execution_count": 10,
   "metadata": {},
   "outputs": [
    {
     "data": {
      "application/vnd.microsoft.datawrangler.viewer.v0+json": {
       "columns": [
        {
         "name": "index",
         "rawType": "int64",
         "type": "integer"
        },
        {
         "name": "merch_lat",
         "rawType": "float32",
         "type": "float"
        },
        {
         "name": "merch_long",
         "rawType": "float32",
         "type": "float"
        },
        {
         "name": "merch_zipcode",
         "rawType": "object",
         "type": "string"
        },
        {
         "name": "calculated_zipcode",
         "rawType": "object",
         "type": "string"
        }
       ],
       "conversionMethod": "pd.DataFrame",
       "ref": "aec3b8e2-3a77-40f9-b4ba-3d922c900fde",
       "rows": [
        [
         "0",
         "36.01129",
         "-82.04832",
         "28705",
         "28705"
        ],
        [
         "1",
         "43.150703",
         "-112.15448",
         "83236",
         "83236"
        ],
        [
         "2",
         "38.675",
         "-78.63246",
         "22844",
         "22844"
        ],
        [
         "3",
         "40.65338",
         "-76.152664",
         "17972",
         "17972"
        ],
        [
         "4",
         "38.94809",
         "-78.5403",
         "22644",
         "22644"
        ]
       ],
       "shape": {
        "columns": 4,
        "rows": 5
       }
      },
      "text/html": [
       "<div>\n",
       "<style scoped>\n",
       "    .dataframe tbody tr th:only-of-type {\n",
       "        vertical-align: middle;\n",
       "    }\n",
       "\n",
       "    .dataframe tbody tr th {\n",
       "        vertical-align: top;\n",
       "    }\n",
       "\n",
       "    .dataframe thead th {\n",
       "        text-align: right;\n",
       "    }\n",
       "</style>\n",
       "<table border=\"1\" class=\"dataframe\">\n",
       "  <thead>\n",
       "    <tr style=\"text-align: right;\">\n",
       "      <th></th>\n",
       "      <th>merch_lat</th>\n",
       "      <th>merch_long</th>\n",
       "      <th>merch_zipcode</th>\n",
       "      <th>calculated_zipcode</th>\n",
       "    </tr>\n",
       "  </thead>\n",
       "  <tbody>\n",
       "    <tr>\n",
       "      <th>0</th>\n",
       "      <td>36.011292</td>\n",
       "      <td>-82.048317</td>\n",
       "      <td>28705</td>\n",
       "      <td>28705</td>\n",
       "    </tr>\n",
       "    <tr>\n",
       "      <th>1</th>\n",
       "      <td>43.150703</td>\n",
       "      <td>-112.154480</td>\n",
       "      <td>83236</td>\n",
       "      <td>83236</td>\n",
       "    </tr>\n",
       "    <tr>\n",
       "      <th>2</th>\n",
       "      <td>38.674999</td>\n",
       "      <td>-78.632462</td>\n",
       "      <td>22844</td>\n",
       "      <td>22844</td>\n",
       "    </tr>\n",
       "    <tr>\n",
       "      <th>3</th>\n",
       "      <td>40.653381</td>\n",
       "      <td>-76.152664</td>\n",
       "      <td>17972</td>\n",
       "      <td>17972</td>\n",
       "    </tr>\n",
       "    <tr>\n",
       "      <th>4</th>\n",
       "      <td>38.948090</td>\n",
       "      <td>-78.540298</td>\n",
       "      <td>22644</td>\n",
       "      <td>22644</td>\n",
       "    </tr>\n",
       "  </tbody>\n",
       "</table>\n",
       "</div>"
      ],
      "text/plain": [
       "   merch_lat  merch_long merch_zipcode calculated_zipcode\n",
       "0  36.011292  -82.048317         28705              28705\n",
       "1  43.150703 -112.154480         83236              83236\n",
       "2  38.674999  -78.632462         22844              22844\n",
       "3  40.653381  -76.152664         17972              17972\n",
       "4  38.948090  -78.540298         22644              22644"
      ]
     },
     "execution_count": 10,
     "metadata": {},
     "output_type": "execute_result"
    }
   ],
   "source": [
    "# Verifying the results of uszipcode library over a sample data\n",
    "merch_location_test = cc_data_processed.filter(col('merch_zipcode').isNotNull()).limit(5)\n",
    "merch_location_test = merch_location_test.select(*['merch_lat', 'merch_long', 'merch_zipcode'])\n",
    "merch_location_test_pandas = merch_location_test.toPandas()\n",
    "search = SearchEngine()\n",
    "def get_zipcode(lat, long):\n",
    "    result = search.by_coordinates(lat=lat, lng=long)\n",
    "    if result:\n",
    "        return result[0].zipcode\n",
    "    else:\n",
    "        return ''\n",
    "merch_location_test_pandas['calculated_zipcode'] = merch_location_test_pandas.apply(\n",
    "    lambda x: get_zipcode(x.merch_lat, x.merch_long), axis=1)\n",
    "merch_location_test_pandas\n"
   ]
  },
  {
   "cell_type": "markdown",
   "metadata": {},
   "source": [
    "The zipcodes match exactly over the sample dataset so we can run it for the missing values."
   ]
  },
  {
   "cell_type": "code",
   "execution_count": 11,
   "metadata": {},
   "outputs": [],
   "source": [
    "# missing_merch_zipcode = cc_data_processed.filter(col('merch_zipcode').isNull())\n",
    "# missing_merch_zipcode = missing_merch_zipcode.select(*['merch_lat', 'merch_long', 'merch_zipcode'])\n",
    "# missing_merch_zipcode = missing_merch_zipcode.toPandas()\n",
    "# missing_merch_zipcode['calculated_zipcode'] = missing_merch_zipcode.apply(\n",
    "#     lambda x: get_zipcode(x.merch_lat, x.merch_long), axis=1)\n",
    "# # Saving results to save time in the future\n",
    "# missing_merch_zipcode[['merch_lat', 'merch_long', 'calculated_zipcode']].to_parquet(os.path.join('..', 'data', 'calculated_zipcodes.parquet'), index=False)\n",
    "# missing_merch_zipcode.head()"
   ]
  },
  {
   "cell_type": "code",
   "execution_count": 12,
   "metadata": {},
   "outputs": [],
   "source": [
    "missing_merch_zipcode = spark.read.parquet(os.path.join('..', 'data', 'calculated_zipcodes.parquet'))\n",
    "missing_merch_zipcode = missing_merch_zipcode.withColumnRenamed('merch_lat', 'merch_lat_todrop')\n",
    "missing_merch_zipcode = missing_merch_zipcode.withColumnRenamed('merch_long', 'merch_long_todrop')\n",
    "cc_data_processed = cc_data_processed.join(missing_merch_zipcode,\n",
    "                              (cc_data_processed['merch_lat'] == missing_merch_zipcode['merch_lat_todrop']) &\n",
    "                              (cc_data_processed['merch_long'] == missing_merch_zipcode['merch_long_todrop']),\n",
    "                              'left')\n",
    "cc_data_processed = cc_data_processed.withColumn(\n",
    "    'merch_zipcode',\n",
    "    when(\n",
    "        col('merch_zipcode').isNull(), col('calculated_zipcode')\n",
    "        ).otherwise(col('merch_zipcode'))\n",
    ")\n",
    "\n",
    "for column in missing_merch_zipcode.columns:\n",
    "    cc_data_processed = cc_data_processed.drop(column)"
   ]
  },
  {
   "cell_type": "code",
   "execution_count": 16,
   "metadata": {},
   "outputs": [
    {
     "name": "stdout",
     "output_type": "stream",
     "text": [
      "+-------------+\n",
      "|merch_zipcode|\n",
      "+-------------+\n",
      "|        59882|\n",
      "+-------------+\n",
      "\n"
     ]
    }
   ],
   "source": [
    "null_counts = cc_data_processed.select([\n",
    "    sum(\n",
    "        (col('merch_zipcode')=='').cast('int')\n",
    "        ).alias('merch_zipcode')])\n",
    "null_counts.show()"
   ]
  },
  {
   "cell_type": "markdown",
   "metadata": {},
   "source": [
    "We've managed to reduced the missing data in `merch_zipcode` from 195,973 (15%) to 59,882 (5%) rows."
   ]
  },
  {
   "cell_type": "markdown",
   "metadata": {},
   "source": [
    "## 2.3 Formatting Time Columns\n",
    "\n",
    "I assume all time columns are recorded in UTC time."
   ]
  },
  {
   "cell_type": "code",
   "execution_count": 11,
   "metadata": {},
   "outputs": [
    {
     "name": "stdout",
     "output_type": "stream",
     "text": [
      "Readable Time (UTC): 2012-01-01 00:00:18.798532+00:00\n"
     ]
    }
   ],
   "source": [
    "from datetime import datetime, timezone\n",
    "\n",
    "# Given epoch time in microseconds\n",
    "epoch_time = 1325376018798532\n",
    "epoch_time = 1325376018666\n",
    "\n",
    "# Convert to seconds (divide by 1,000,000)\n",
    "epoch_time_seconds = epoch_time / 1_000_000\n",
    "\n",
    "# Convert epoch seconds to a readable datetime\n",
    "readable_time = datetime.fromtimestamp(epoch_time_seconds, tz=timezone.utc)\n",
    "\n",
    "print(\"Readable Time (UTC):\", readable_time)\n"
   ]
  },
  {
   "cell_type": "code",
   "execution_count": 12,
   "metadata": {},
   "outputs": [
    {
     "data": {
      "text/plain": [
       "True"
      ]
     },
     "execution_count": 12,
     "metadata": {},
     "output_type": "execute_result"
    }
   ],
   "source": [
    "1000000 == 1_000_000"
   ]
  },
  {
   "cell_type": "code",
   "execution_count": 15,
   "metadata": {},
   "outputs": [
    {
     "name": "stdout",
     "output_type": "stream",
     "text": [
      "Readable Time (UTC): 2012-01-01 00:00:18.666000+00:00\n"
     ]
    }
   ],
   "source": [
    "from datetime import datetime, timezone\n",
    "\n",
    "# Given epoch time in microseconds (example value)\n",
    "epoch_time = 1325376018666\n",
    "\n",
    "# Convert to seconds (divide by 1,000,000)\n",
    "epoch_time_seconds = epoch_time / 1_000\n",
    "\n",
    "# Convert epoch seconds to a readable datetime in UTC\n",
    "readable_time = datetime.fromtimestamp(epoch_time_seconds, tz=timezone.utc)\n",
    "\n",
    "print(\"Readable Time (UTC):\", readable_time)"
   ]
  },
  {
   "cell_type": "code",
   "execution_count": 13,
   "metadata": {},
   "outputs": [
    {
     "name": "stdout",
     "output_type": "stream",
     "text": [
      "+--------------------+\n",
      "|            merchant|\n",
      "+--------------------+\n",
      "|  fraud_Rau and Sons|\n",
      "|    fraud_Herman Inc|\n",
      "|     fraud_Thiel PLC|\n",
      "|fraud_O'Hara-Wild...|\n",
      "|fraud_Bradtke, To...|\n",
      "|fraud_Altenwerth,...|\n",
      "|fraud_Robel, Cumm...|\n",
      "| fraud_Greenholt Ltd|\n",
      "|fraud_Ledner, Har...|\n",
      "|  fraud_Waelchi-Wolf|\n",
      "|   fraud_Effertz LLC|\n",
      "|fraud_Smitham-Sch...|\n",
      "| fraud_Kihn-Schuster|\n",
      "|   fraud_Hills-Boyer|\n",
      "|fraud_Douglas, Du...|\n",
      "|      fraud_Jast Ltd|\n",
      "|fraud_Stroman, Hu...|\n",
      "|fraud_Kerluke-Abs...|\n",
      "|fraud_Gottlieb-Ha...|\n",
      "|fraud_Rippin-VonR...|\n",
      "+--------------------+\n",
      "only showing top 20 rows\n",
      "\n"
     ]
    }
   ],
   "source": [
    "cc_data.select('merchant').distinct().show()"
   ]
  },
  {
   "cell_type": "code",
   "execution_count": 59,
   "metadata": {},
   "outputs": [
    {
     "name": "stdout",
     "output_type": "stream",
     "text": [
      "+--------------------+----------------------+---------+\n",
      "|            merchant|merch_last_update_time|row_count|\n",
      "+--------------------+----------------------+---------+\n",
      "|fraud_Reichert, H...|         1325379419461|        1|\n",
      "|fraud_Streich, Ha...|           13253955921|        1|\n",
      "|fraud_Adams, Kova...|         1325407009293|        1|\n",
      "|    fraud_Barton Inc|         1325410422100|        1|\n",
      "|fraud_Schumm, Bau...|         1325410956149|        1|\n",
      "|fraud_Heidenreich...|         1325414448242|        1|\n",
      "|   fraud_Lockman Ltd|         1325415238378|        1|\n",
      "|fraud_Goyette, Ho...|         1325422035766|        1|\n",
      "|fraud_Swaniawski,...|         1325423065476|        1|\n",
      "|  fraud_Schmeler Inc|         1325435865977|        1|\n",
      "|fraud_Kutch-Wilde...|         1325437432727|        1|\n",
      "|fraud_Wuckert, Wi...|          132545036954|        1|\n",
      "|fraud_Bernier and...|         1325452448770|        1|\n",
      "|fraud_Lubowitz-Wa...|         1325454239320|        1|\n",
      "|fraud_Stiedemann Ltd|         1325456901399|        1|\n",
      "|fraud_Schroeder G...|         1325457756209|        1|\n",
      "|fraud_O'Connell, ...|         1325461890664|        1|\n",
      "|  fraud_Kassulke PLC|         1325504061983|        1|\n",
      "|       fraud_Kub PLC|         1325508734847|        1|\n",
      "|fraud_Kautzer and...|          132551150483|        1|\n",
      "+--------------------+----------------------+---------+\n",
      "only showing top 20 rows\n",
      "\n"
     ]
    }
   ],
   "source": [
    "from pyspark.sql.functions import count\n",
    "\n",
    "# Group by 'merchant' and 'merch_eff_time', then count the rows in each group\n",
    "grouped_df = cc_data.groupBy(\"merchant\", \"merch_last_update_time\").agg(count(\"*\").alias(\"row_count\"))\n",
    "\n",
    "# Show the grouped DataFrame\n",
    "grouped_df.show()"
   ]
  },
  {
   "cell_type": "code",
   "execution_count": 23,
   "metadata": {},
   "outputs": [
    {
     "name": "stdout",
     "output_type": "stream",
     "text": [
      "+--------+-------+\n",
      "|is_fraud|  count|\n",
      "+--------+-------+\n",
      "|       0|1289169|\n",
      "|       1|   7506|\n",
      "+--------+-------+\n",
      "\n"
     ]
    }
   ],
   "source": [
    "cc_data.groupby('is_fraud').count().show()"
   ]
  },
  {
   "cell_type": "markdown",
   "metadata": {},
   "source": [
    "Around 0.5% of the transactions are fraud. This should be considered if training a ML model."
   ]
  }
 ],
 "metadata": {
  "kernelspec": {
   "display_name": "venv",
   "language": "python",
   "name": "python3"
  },
  "language_info": {
   "codemirror_mode": {
    "name": "ipython",
    "version": 3
   },
   "file_extension": ".py",
   "mimetype": "text/x-python",
   "name": "python",
   "nbconvert_exporter": "python",
   "pygments_lexer": "ipython3",
   "version": "3.12.9"
  }
 },
 "nbformat": 4,
 "nbformat_minor": 2
}
