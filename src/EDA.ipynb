{
 "cells": [
  {
   "cell_type": "code",
   "execution_count": 1,
   "metadata": {},
   "outputs": [],
   "source": [
    "import os\n",
    "from pyspark.sql import SparkSession"
   ]
  },
  {
   "cell_type": "code",
   "execution_count": 5,
   "metadata": {},
   "outputs": [
    {
     "name": "stdout",
     "output_type": "stream",
     "text": [
      "+----------+------+-------------+-----------+----------------+--------+----------------+----------------------+------------------+-----------+-------------+--------------------+--------------------+---------------------+--------------------+\n",
      "|Unnamed: 0|   amt|     category|     cc_bic|          cc_num|is_fraud|  merch_eff_time|merch_last_update_time|         merch_lat| merch_long|merch_zipcode|            merchant|     personal_detail|trans_date_trans_time|           trans_num|\n",
      "+----------+------+-------------+-----------+----------------+--------+----------------+----------------------+------------------+-----------+-------------+--------------------+--------------------+---------------------+--------------------+\n",
      "|         0|  4.97|     misc_net|CITIUS33CHI|2703186189652095|       0|1325376018798532|         1325376018666|         36.011293| -82.048315|        28705|fraud_Rippin, Kub...|{\"person_name\":\"J...|  2019-01-01 00:00:18|0b242abb623afc578...|\n",
      "|         1|107.23|  grocery_pos|   ADMDUS41|    630423337322|       0|1325376044867960|          132537604479|49.159046999999994|-118.186462|         NULL|fraud_Heller, Gut...|{\"person_name\":\"S...|  2019-01-01 00:00:44|1f76529f857473494...|\n",
      "|         2|220.11|entertainment|       Null|  38859492057661|       0|1325376051506840|         1325376051286|         43.150704|-112.154481|        83236|fraud_Lind-Buckridge|{\"person_name\":\"E...|  2019-01-01 00:00:51|a1a22d70485983eac...|\n",
      "|         3|  45.0|gas_transport|DEUTUS33TRF|3534093764340240|       0|1325376076794698|         1325376076365|         47.034331|-112.561071|         NULL|fraud_Kutch, Herm...|{\"person_name\":\"J...|  2019-01-01 00:01:16|6b849c168bdad6f86...|\n",
      "|         4| 41.96|     misc_pos|   APBCUS61| 375534208663984|       0|1325376186746376|          132537618681|         38.674999| -78.632459|        22844| fraud_Keeling-Crist|{\"person_name\":\"T...|  2019-01-01 00:03:06|a41d7549acf907893...|\n",
      "+----------+------+-------------+-----------+----------------+--------+----------------+----------------------+------------------+-----------+-------------+--------------------+--------------------+---------------------+--------------------+\n",
      "\n"
     ]
    }
   ],
   "source": [
    "data_path = os.path.join('..', 'data', 'cc_sample_transaction.json')\n",
    "spark = SparkSession.builder.appName('CC Data Analyser').getOrCreate()\n",
    "data = spark.read.json(data_path)\n",
    "data.limit(5).show()"
   ]
  },
  {
   "cell_type": "code",
   "execution_count": null,
   "metadata": {},
   "outputs": [],
   "source": []
  }
 ],
 "metadata": {
  "kernelspec": {
   "display_name": "venv",
   "language": "python",
   "name": "python3"
  },
  "language_info": {
   "codemirror_mode": {
    "name": "ipython",
    "version": 3
   },
   "file_extension": ".py",
   "mimetype": "text/x-python",
   "name": "python",
   "nbconvert_exporter": "python",
   "pygments_lexer": "ipython3",
   "version": "3.12.9"
  }
 },
 "nbformat": 4,
 "nbformat_minor": 2
}
